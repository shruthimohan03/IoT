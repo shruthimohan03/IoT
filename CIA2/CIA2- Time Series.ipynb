{
 "cells": [
  {
   "cell_type": "code",
   "execution_count": 3,
   "id": "42b1ce16",
   "metadata": {},
   "outputs": [],
   "source": [
    "import pandas as pd\n",
    "import numpy as np\n",
    "import matplotlib.pyplot as plt\n",
    "data = pd.read_csv(r\"C:\\Users\\Prathosh\\Downloads\\data.csv\")"
   ]
  },
  {
   "cell_type": "code",
   "execution_count": 4,
   "id": "7c31e078",
   "metadata": {},
   "outputs": [
    {
     "data": {
      "text/html": [
       "<div>\n",
       "<style scoped>\n",
       "    .dataframe tbody tr th:only-of-type {\n",
       "        vertical-align: middle;\n",
       "    }\n",
       "\n",
       "    .dataframe tbody tr th {\n",
       "        vertical-align: top;\n",
       "    }\n",
       "\n",
       "    .dataframe thead th {\n",
       "        text-align: right;\n",
       "    }\n",
       "</style>\n",
       "<table border=\"1\" class=\"dataframe\">\n",
       "  <thead>\n",
       "    <tr style=\"text-align: right;\">\n",
       "      <th></th>\n",
       "      <th>time_id</th>\n",
       "      <th>ping_ms</th>\n",
       "      <th>temperature_c</th>\n",
       "      <th>humidity_p</th>\n",
       "    </tr>\n",
       "  </thead>\n",
       "  <tbody>\n",
       "    <tr>\n",
       "      <th>0</th>\n",
       "      <td>2021-09-30 21:08:02</td>\n",
       "      <td>17.28</td>\n",
       "      <td>25</td>\n",
       "      <td>35</td>\n",
       "    </tr>\n",
       "    <tr>\n",
       "      <th>1</th>\n",
       "      <td>2021-09-30 21:09:02</td>\n",
       "      <td>17.73</td>\n",
       "      <td>23</td>\n",
       "      <td>40</td>\n",
       "    </tr>\n",
       "    <tr>\n",
       "      <th>2</th>\n",
       "      <td>2021-09-30 21:10:01</td>\n",
       "      <td>18.59</td>\n",
       "      <td>22</td>\n",
       "      <td>41</td>\n",
       "    </tr>\n",
       "    <tr>\n",
       "      <th>3</th>\n",
       "      <td>2021-09-30 21:12:02</td>\n",
       "      <td>16.73</td>\n",
       "      <td>22</td>\n",
       "      <td>42</td>\n",
       "    </tr>\n",
       "    <tr>\n",
       "      <th>4</th>\n",
       "      <td>2021-09-30 21:13:02</td>\n",
       "      <td>18.12</td>\n",
       "      <td>22</td>\n",
       "      <td>42</td>\n",
       "    </tr>\n",
       "  </tbody>\n",
       "</table>\n",
       "</div>"
      ],
      "text/plain": [
       "               time_id  ping_ms  temperature_c  humidity_p\n",
       "0  2021-09-30 21:08:02    17.28             25          35\n",
       "1  2021-09-30 21:09:02    17.73             23          40\n",
       "2  2021-09-30 21:10:01    18.59             22          41\n",
       "3  2021-09-30 21:12:02    16.73             22          42\n",
       "4  2021-09-30 21:13:02    18.12             22          42"
      ]
     },
     "execution_count": 4,
     "metadata": {},
     "output_type": "execute_result"
    }
   ],
   "source": [
    "data.head()"
   ]
  },
  {
   "cell_type": "code",
   "execution_count": 5,
   "id": "e5a20916",
   "metadata": {},
   "outputs": [
    {
     "data": {
      "text/plain": [
       "[<matplotlib.lines.Line2D at 0x265458425e0>]"
      ]
     },
     "execution_count": 5,
     "metadata": {},
     "output_type": "execute_result"
    },
    {
     "data": {
      "image/png": "[encoded data removed]",
      "text/plain": [
       "<Figure size 432x288 with 1 Axes>"
      ]
     },
     "metadata": {
      "needs_background": "light"
     },
     "output_type": "display_data"
    }
   ],
   "source": [
    "plt.xlabel(\"Date\")\n",
    "plt.ylabel(\"Temperature\")\n",
    "plt.plot(data['time_id'],data['temperature_c'])"
   ]
  },
  {
   "cell_type": "code",
   "execution_count": 9,
   "id": "3a4e54b2",
   "metadata": {
    "scrolled": false
   },
   "outputs": [
    {
     "data": {
      "text/html": [
       "<div>\n",
       "<style scoped>\n",
       "    .dataframe tbody tr th:only-of-type {\n",
       "        vertical-align: middle;\n",
       "    }\n",
       "\n",
       "    .dataframe tbody tr th {\n",
       "        vertical-align: top;\n",
       "    }\n",
       "\n",
       "    .dataframe thead th {\n",
       "        text-align: right;\n",
       "    }\n",
       "</style>\n",
       "<table border=\"1\" class=\"dataframe\">\n",
       "  <thead>\n",
       "    <tr style=\"text-align: right;\">\n",
       "      <th></th>\n",
       "      <th>ping_ms</th>\n",
       "      <th>temperature_c</th>\n",
       "      <th>humidity_p</th>\n",
       "    </tr>\n",
       "    <tr>\n",
       "      <th>time_id</th>\n",
       "      <th></th>\n",
       "      <th></th>\n",
       "      <th></th>\n",
       "    </tr>\n",
       "  </thead>\n",
       "  <tbody>\n",
       "    <tr>\n",
       "      <th>2021-09-30 21:08:02</th>\n",
       "      <td>17.28</td>\n",
       "      <td>25</td>\n",
       "      <td>35</td>\n",
       "    </tr>\n",
       "    <tr>\n",
       "      <th>2021-09-30 21:09:02</th>\n",
       "      <td>17.73</td>\n",
       "      <td>23</td>\n",
       "      <td>40</td>\n",
       "    </tr>\n",
       "    <tr>\n",
       "      <th>2021-09-30 21:10:01</th>\n",
       "      <td>18.59</td>\n",
       "      <td>22</td>\n",
       "      <td>41</td>\n",
       "    </tr>\n",
       "    <tr>\n",
       "      <th>2021-09-30 21:12:02</th>\n",
       "      <td>16.73</td>\n",
       "      <td>22</td>\n",
       "      <td>42</td>\n",
       "    </tr>\n",
       "    <tr>\n",
       "      <th>2021-09-30 21:13:02</th>\n",
       "      <td>18.12</td>\n",
       "      <td>22</td>\n",
       "      <td>42</td>\n",
       "    </tr>\n",
       "    <tr>\n",
       "      <th>...</th>\n",
       "      <td>...</td>\n",
       "      <td>...</td>\n",
       "      <td>...</td>\n",
       "    </tr>\n",
       "    <tr>\n",
       "      <th>2022-01-10 13:12:02</th>\n",
       "      <td>2000.00</td>\n",
       "      <td>27</td>\n",
       "      <td>28</td>\n",
       "    </tr>\n",
       "    <tr>\n",
       "      <th>2022-01-10 13:13:02</th>\n",
       "      <td>2000.00</td>\n",
       "      <td>27</td>\n",
       "      <td>28</td>\n",
       "    </tr>\n",
       "    <tr>\n",
       "      <th>2022-01-10 13:14:01</th>\n",
       "      <td>2000.00</td>\n",
       "      <td>27</td>\n",
       "      <td>28</td>\n",
       "    </tr>\n",
       "    <tr>\n",
       "      <th>2022-01-10 13:31:13</th>\n",
       "      <td>14.40</td>\n",
       "      <td>23</td>\n",
       "      <td>42</td>\n",
       "    </tr>\n",
       "    <tr>\n",
       "      <th>2022-01-10 13:32:02</th>\n",
       "      <td>15.53</td>\n",
       "      <td>23</td>\n",
       "      <td>38</td>\n",
       "    </tr>\n",
       "  </tbody>\n",
       "</table>\n",
       "<p>130337 rows × 3 columns</p>\n",
       "</div>"
      ],
      "text/plain": [
       "                     ping_ms  temperature_c  humidity_p\n",
       "time_id                                                \n",
       "2021-09-30 21:08:02    17.28             25          35\n",
       "2021-09-30 21:09:02    17.73             23          40\n",
       "2021-09-30 21:10:01    18.59             22          41\n",
       "2021-09-30 21:12:02    16.73             22          42\n",
       "2021-09-30 21:13:02    18.12             22          42\n",
       "...                      ...            ...         ...\n",
       "2022-01-10 13:12:02  2000.00             27          28\n",
       "2022-01-10 13:13:02  2000.00             27          28\n",
       "2022-01-10 13:14:01  2000.00             27          28\n",
       "2022-01-10 13:31:13    14.40             23          42\n",
       "2022-01-10 13:32:02    15.53             23          38\n",
       "\n",
       "[130337 rows x 3 columns]"
      ]
     },
     "execution_count": 9,
     "metadata": {},
     "output_type": "execute_result"
    }
   ],
   "source": [
    "data = data.set_index(['time_id'])\n",
    "data"
   ]
  },
  {
   "cell_type": "code",
   "execution_count": 10,
   "id": "dd532a6e",
   "metadata": {},
   "outputs": [
    {
     "data": {
      "text/html": [
       "<div>\n",
       "<style scoped>\n",
       "    .dataframe tbody tr th:only-of-type {\n",
       "        vertical-align: middle;\n",
       "    }\n",
       "\n",
       "    .dataframe tbody tr th {\n",
       "        vertical-align: top;\n",
       "    }\n",
       "\n",
       "    .dataframe thead th {\n",
       "        text-align: right;\n",
       "    }\n",
       "</style>\n",
       "<table border=\"1\" class=\"dataframe\">\n",
       "  <thead>\n",
       "    <tr style=\"text-align: right;\">\n",
       "      <th></th>\n",
       "      <th>#temp</th>\n",
       "    </tr>\n",
       "    <tr>\n",
       "      <th>time_id</th>\n",
       "      <th></th>\n",
       "    </tr>\n",
       "  </thead>\n",
       "  <tbody>\n",
       "    <tr>\n",
       "      <th>2021-09-30 21:08:02</th>\n",
       "      <td>25</td>\n",
       "    </tr>\n",
       "    <tr>\n",
       "      <th>2021-09-30 21:09:02</th>\n",
       "      <td>23</td>\n",
       "    </tr>\n",
       "    <tr>\n",
       "      <th>2021-09-30 21:10:01</th>\n",
       "      <td>22</td>\n",
       "    </tr>\n",
       "    <tr>\n",
       "      <th>2021-09-30 21:12:02</th>\n",
       "      <td>22</td>\n",
       "    </tr>\n",
       "    <tr>\n",
       "      <th>2021-09-30 21:13:02</th>\n",
       "      <td>22</td>\n",
       "    </tr>\n",
       "    <tr>\n",
       "      <th>...</th>\n",
       "      <td>...</td>\n",
       "    </tr>\n",
       "    <tr>\n",
       "      <th>2022-01-10 13:12:02</th>\n",
       "      <td>27</td>\n",
       "    </tr>\n",
       "    <tr>\n",
       "      <th>2022-01-10 13:13:02</th>\n",
       "      <td>27</td>\n",
       "    </tr>\n",
       "    <tr>\n",
       "      <th>2022-01-10 13:14:01</th>\n",
       "      <td>27</td>\n",
       "    </tr>\n",
       "    <tr>\n",
       "      <th>2022-01-10 13:31:13</th>\n",
       "      <td>23</td>\n",
       "    </tr>\n",
       "    <tr>\n",
       "      <th>2022-01-10 13:32:02</th>\n",
       "      <td>23</td>\n",
       "    </tr>\n",
       "  </tbody>\n",
       "</table>\n",
       "<p>130337 rows × 1 columns</p>\n",
       "</div>"
      ],
      "text/plain": [
       "                     #temp\n",
       "time_id                   \n",
       "2021-09-30 21:08:02     25\n",
       "2021-09-30 21:09:02     23\n",
       "2021-09-30 21:10:01     22\n",
       "2021-09-30 21:12:02     22\n",
       "2021-09-30 21:13:02     22\n",
       "...                    ...\n",
       "2022-01-10 13:12:02     27\n",
       "2022-01-10 13:13:02     27\n",
       "2022-01-10 13:14:01     27\n",
       "2022-01-10 13:31:13     23\n",
       "2022-01-10 13:32:02     23\n",
       "\n",
       "[130337 rows x 1 columns]"
      ]
     },
     "execution_count": 10,
     "metadata": {},
     "output_type": "execute_result"
    }
   ],
   "source": [
    "df=pd.DataFrame()\n",
    "df['#temp']=data['temperature_c']\n",
    "df"
   ]
  },
  {
   "cell_type": "code",
   "execution_count": 11,
   "id": "e7445d58",
   "metadata": {},
   "outputs": [
    {
     "data": {
      "text/html": [
       "<div>\n",
       "<style scoped>\n",
       "    .dataframe tbody tr th:only-of-type {\n",
       "        vertical-align: middle;\n",
       "    }\n",
       "\n",
       "    .dataframe tbody tr th {\n",
       "        vertical-align: top;\n",
       "    }\n",
       "\n",
       "    .dataframe thead th {\n",
       "        text-align: right;\n",
       "    }\n",
       "</style>\n",
       "<table border=\"1\" class=\"dataframe\">\n",
       "  <thead>\n",
       "    <tr style=\"text-align: right;\">\n",
       "      <th></th>\n",
       "      <th>#temp</th>\n",
       "    </tr>\n",
       "    <tr>\n",
       "      <th>time_id</th>\n",
       "      <th></th>\n",
       "    </tr>\n",
       "  </thead>\n",
       "  <tbody>\n",
       "    <tr>\n",
       "      <th>2021-09-30 21:08:02</th>\n",
       "      <td>-0.105148</td>\n",
       "    </tr>\n",
       "    <tr>\n",
       "      <th>2021-09-30 21:09:02</th>\n",
       "      <td>-0.963220</td>\n",
       "    </tr>\n",
       "    <tr>\n",
       "      <th>2021-09-30 21:10:01</th>\n",
       "      <td>-1.392256</td>\n",
       "    </tr>\n",
       "    <tr>\n",
       "      <th>2021-09-30 21:12:02</th>\n",
       "      <td>-1.392256</td>\n",
       "    </tr>\n",
       "    <tr>\n",
       "      <th>2021-09-30 21:13:02</th>\n",
       "      <td>-1.392256</td>\n",
       "    </tr>\n",
       "    <tr>\n",
       "      <th>...</th>\n",
       "      <td>...</td>\n",
       "    </tr>\n",
       "    <tr>\n",
       "      <th>2022-01-10 13:12:02</th>\n",
       "      <td>0.752924</td>\n",
       "    </tr>\n",
       "    <tr>\n",
       "      <th>2022-01-10 13:13:02</th>\n",
       "      <td>0.752924</td>\n",
       "    </tr>\n",
       "    <tr>\n",
       "      <th>2022-01-10 13:14:01</th>\n",
       "      <td>0.752924</td>\n",
       "    </tr>\n",
       "    <tr>\n",
       "      <th>2022-01-10 13:31:13</th>\n",
       "      <td>-0.963220</td>\n",
       "    </tr>\n",
       "    <tr>\n",
       "      <th>2022-01-10 13:32:02</th>\n",
       "      <td>-0.963220</td>\n",
       "    </tr>\n",
       "  </tbody>\n",
       "</table>\n",
       "<p>130337 rows × 1 columns</p>\n",
       "</div>"
      ],
      "text/plain": [
       "                        #temp\n",
       "time_id                      \n",
       "2021-09-30 21:08:02 -0.105148\n",
       "2021-09-30 21:09:02 -0.963220\n",
       "2021-09-30 21:10:01 -1.392256\n",
       "2021-09-30 21:12:02 -1.392256\n",
       "2021-09-30 21:13:02 -1.392256\n",
       "...                       ...\n",
       "2022-01-10 13:12:02  0.752924\n",
       "2022-01-10 13:13:02  0.752924\n",
       "2022-01-10 13:14:01  0.752924\n",
       "2022-01-10 13:31:13 -0.963220\n",
       "2022-01-10 13:32:02 -0.963220\n",
       "\n",
       "[130337 rows x 1 columns]"
      ]
     },
     "execution_count": 11,
     "metadata": {},
     "output_type": "execute_result"
    }
   ],
   "source": [
    "from sklearn.preprocessing import StandardScaler \n",
    "sc=StandardScaler()\n",
    "y=sc.fit_transform(df)\n",
    "df['#temp']=y\n",
    "df"
   ]
  },
  {
   "cell_type": "markdown",
   "id": "fd19ebad",
   "metadata": {},
   "source": [
    "### ROLLING TEST"
   ]
  },
  {
   "cell_type": "code",
   "execution_count": 12,
   "id": "5382ff36",
   "metadata": {},
   "outputs": [],
   "source": [
    "rol_mean = df.rolling(window=365*1440).mean()\n",
    "rol_std = df.rolling(window=365*1440).std()"
   ]
  },
  {
   "cell_type": "code",
   "execution_count": 13,
   "id": "7c58758b",
   "metadata": {
    "scrolled": false
   },
   "outputs": [
    {
     "data": {
      "text/plain": [
       "[<matplotlib.lines.Line2D at 0x265bf57b970>]"
      ]
     },
     "execution_count": 13,
     "metadata": {},
     "output_type": "execute_result"
    },
    {
     "data": {
      "image/png": "[encoded data removed]",
      "text/plain": [
       "<Figure size 432x288 with 1 Axes>"
      ]
     },
     "metadata": {
      "needs_background": "light"
     },
     "output_type": "display_data"
    }
   ],
   "source": [
    "plt.plot(df, c='blue')\n",
    "plt.plot(rol_mean, c='black')\n",
    "plt.plot(rol_std, c='red')"
   ]
  },
  {
   "cell_type": "markdown",
   "id": "5d58cbff",
   "metadata": {},
   "source": [
    "### ADF TEST:"
   ]
  },
  {
   "cell_type": "code",
   "execution_count": 15,
   "id": "cf696537",
   "metadata": {},
   "outputs": [
    {
     "name": "stdout",
     "output_type": "stream",
     "text": [
      "(-21.472963016422973, 0.0, 8, 130328, {'1%': -3.4304001766988117, '5%': -2.8615621773716287, '10%': -2.5667818042289707}, -114194.95725918675)\n"
     ]
    }
   ],
   "source": [
    "from statsmodels.tsa.stattools import adfuller\n",
    "dftest= adfuller(df['#temp'])\n",
    "print(dftest)"
   ]
  },
  {
   "cell_type": "markdown",
   "id": "2aef99c1",
   "metadata": {},
   "source": [
    " ##### p value<0.05 so stationary"
   ]
  },
  {
   "cell_type": "markdown",
   "id": "976952f1",
   "metadata": {},
   "source": [
    "### SEASONAL DECOMPOSITION:"
   ]
  },
  {
   "cell_type": "code",
   "execution_count": 18,
   "id": "2dd6aaac",
   "metadata": {},
   "outputs": [
    {
     "data": {
      "text/plain": [
       "[<matplotlib.lines.Line2D at 0x230558d9df0>]"
      ]
     },
     "execution_count": 18,
     "metadata": {},
     "output_type": "execute_result"
    },
    {
     "data": {
      "image/png": "[encoded data removed]",
      "text/plain": [
       "<Figure size 432x288 with 2 Axes>"
      ]
     },
     "metadata": {
      "needs_background": "light"
     },
     "output_type": "display_data"
    }
   ],
   "source": [
    "from statsmodels.tsa.seasonal import seasonal_decompose\n",
    "decompose = seasonal_decompose(df,model = 'additive',period=1440)\n",
    "\n",
    "trend=decompose.trend\n",
    "season =decompose.seasonal\n",
    "\n",
    "plt.subplot(211)\n",
    "plt.plot(trend)\n",
    "plt.subplot(212)\n",
    "plt.plot(season)"
   ]
  },
  {
   "cell_type": "markdown",
   "id": "aa6350e9",
   "metadata": {},
   "source": [
    "##### For arima we need p,d,g so that we can forecast with the original data \n",
    "##### We need to plot ACF and PACF"
   ]
  },
  {
   "cell_type": "code",
   "execution_count": 19,
   "id": "a9646b05",
   "metadata": {},
   "outputs": [
    {
     "name": "stderr",
     "output_type": "stream",
     "text": [
      "C:\\Users\\Shruthi Mohan\\anaconda3\\lib\\site-packages\\statsmodels\\tsa\\stattools.py:657: FutureWarning: The default number of lags is changing from 40 tomin(int(10 * np.log10(nobs)), nobs - 1) after 0.12is released. Set the number of lags to an integer to  silence this warning.\n",
      "  warnings.warn(\n",
      "C:\\Users\\Shruthi Mohan\\anaconda3\\lib\\site-packages\\statsmodels\\tsa\\stattools.py:667: FutureWarning: fft=True will become the default after the release of the 0.12 release of statsmodels. To suppress this warning, explicitly set fft=False.\n",
      "  warnings.warn(\n",
      "C:\\Users\\Shruthi Mohan\\anaconda3\\lib\\site-packages\\statsmodels\\tsa\\stattools.py:1024: FutureWarning: The default number of lags is changing from 40 tomin(int(10 * np.log10(nobs)), nobs // 2 - 1) after 0.12is released. Set the number of lags to an integer to  silence this warning.\n",
      "  warnings.warn(\n"
     ]
    },
    {
     "data": {
      "text/plain": [
       "[<matplotlib.lines.Line2D at 0x230114be070>]"
      ]
     },
     "execution_count": 19,
     "metadata": {},
     "output_type": "execute_result"
    },
    {
     "data": {
      "image/png": "[encoded data removed]",
      "text/plain": [
       "<Figure size 432x288 with 2 Axes>"
      ]
     },
     "metadata": {
      "needs_background": "light"
     },
     "output_type": "display_data"
    }
   ],
   "source": [
    "from statsmodels.tsa.stattools import acf,pacf\n",
    "\n",
    "acf_plot = acf(df)\n",
    "pacf_plot = pacf(df)\n",
    "\n",
    "plt.subplot(211)\n",
    "plt.plot(acf_plot)\n",
    "plt.subplot(212)\n",
    "plt.plot(pacf_plot)"
   ]
  },
  {
   "cell_type": "markdown",
   "id": "325cd370",
   "metadata": {},
   "source": [
    "### FORECASTING USING ARIMA MODEL "
   ]
  },
  {
   "cell_type": "markdown",
   "id": "a7ce2a74",
   "metadata": {},
   "source": [
    "##### WE USE P,D,G VALUES FOUND ABOVE\n",
    "##### Now we ignore the new data and use the original data alone to forecast"
   ]
  },
  {
   "cell_type": "code",
   "execution_count": 109,
   "id": "b9f053f6",
   "metadata": {
    "scrolled": true
   },
   "outputs": [
    {
     "name": "stderr",
     "output_type": "stream",
     "text": [
      "C:\\ProgramData\\Anaconda3\\lib\\site-packages\\statsmodels\\tsa\\base\\tsa_model.py:524: ValueWarning: No frequency information was provided, so inferred frequency MS will be used.\n",
      "  warnings.warn('No frequency information was'\n",
      "C:\\ProgramData\\Anaconda3\\lib\\site-packages\\statsmodels\\tsa\\base\\tsa_model.py:524: ValueWarning: No frequency information was provided, so inferred frequency MS will be used.\n",
      "  warnings.warn('No frequency information was'\n",
      "C:\\ProgramData\\Anaconda3\\lib\\site-packages\\statsmodels\\tsa\\base\\tsa_model.py:524: ValueWarning: No frequency information was provided, so inferred frequency MS will be used.\n",
      "  warnings.warn('No frequency information was'\n"
     ]
    }
   ],
   "source": [
    "model=ARIMA(ts_data,seasonal_order=(2,2,1,12))\n",
    "model_fit=model.fit()"
   ]
  },
  {
   "cell_type": "code",
   "execution_count": 114,
   "id": "7d4cd8bd",
   "metadata": {},
   "outputs": [],
   "source": [
    "res=model_fit.forecast(24)"
   ]
  },
  {
   "cell_type": "code",
   "execution_count": 115,
   "id": "18e19635",
   "metadata": {},
   "outputs": [],
   "source": [
    "res = pd.DataFrame(res)\n",
    "res.columns=['#temp']\n",
    "data_pred = pd.DataFrame(data)\n",
    "data_pred = data_pred.append(res)"
   ]
  },
  {
   "cell_type": "code",
   "execution_count": 116,
   "id": "238cd1a9",
   "metadata": {},
   "outputs": [
    {
     "data": {
      "text/plain": [
       "[<matplotlib.lines.Line2D at 0x1baae910d30>]"
      ]
     },
     "execution_count": 116,
     "metadata": {},
     "output_type": "execute_result"
    },
    {
     "data": {
      "image/png": "[encoded data removed]",
      "text/plain": [
       "<Figure size 432x288 with 1 Axes>"
      ]
     },
     "metadata": {
      "needs_background": "light"
     },
     "output_type": "display_data"
    }
   ],
   "source": [
    "plt.plot(data_pred)"
   ]
  }
 ],
 "metadata": {
  "kernelspec": {
   "display_name": "Python 3 (ipykernel)",
   "language": "python",
   "name": "python3"
  },
  "language_info": {
   "codemirror_mode": {
    "name": "ipython",
    "version": 3
   },
   "file_extension": ".py",
   "mimetype": "text/x-python",
   "name": "python",
   "nbconvert_exporter": "python",
   "pygments_lexer": "ipython3",
   "version": "3.9.7"
  }
 },
 "nbformat": 4,
 "nbformat_minor": 5
}
